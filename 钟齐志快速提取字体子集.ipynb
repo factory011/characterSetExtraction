{
 "cells": [
  {
   "cell_type": "code",
   "execution_count": 5,
   "id": "23441f87-1fd9-4239-b371-d2a18cdd98ae",
   "metadata": {
    "tags": []
   },
   "outputs": [
    {
     "data": {
      "text/plain": [
       "'4.27.1'"
      ]
     },
     "execution_count": 5,
     "metadata": {},
     "output_type": "execute_result"
    }
   ],
   "source": [
    "import fontTools;fontTools.__version__"
   ]
  },
  {
   "cell_type": "code",
   "execution_count": 6,
   "id": "ca51c99b-d3cf-417a-828d-478c158c957f",
   "metadata": {
    "tags": []
   },
   "outputs": [],
   "source": [
    "import os\n",
    "import re\n",
    "\n",
    "# 读入目标文本内容\n",
    "with open('./将进酒.txt', encoding='utf-8') as t:\n",
    "    source_content = t.read()"
   ]
  },
  {
   "cell_type": "code",
   "execution_count": 7,
   "id": "0d120472-5efd-4e4e-8ae6-825db15a0acb",
   "metadata": {
    "tags": []
   },
   "outputs": [
    {
     "data": {
      "text/plain": [
       "0"
      ]
     },
     "execution_count": 7,
     "metadata": {},
     "output_type": "execute_result"
    }
   ],
   "source": [
    "# 模拟执行pyftsubset命令生成字体子集\n",
    "os.system(\n",
    "    'pyftsubset 钟齐志莽行书.ttf --text={} --output-file=钟齐志莽行书mini.ttf'.format(\n",
    "        # 去除空白字符后去重\n",
    "        ''.join(set(re.sub('\\s', '', source_content)))\n",
    "    )\n",
    ")"
   ]
  },
  {
   "cell_type": "markdown",
   "id": "e3fa6067",
   "metadata": {},
   "source": []
  }
 ],
 "metadata": {
  "kernelspec": {
   "display_name": "Python 3 (ipykernel)",
   "language": "python",
   "name": "python3"
  },
  "language_info": {
   "codemirror_mode": {
    "name": "ipython",
    "version": 3
   },
   "file_extension": ".py",
   "mimetype": "text/x-python",
   "name": "python",
   "nbconvert_exporter": "python",
   "pygments_lexer": "ipython3",
   "version": "3.6.8"
  }
 },
 "nbformat": 4,
 "nbformat_minor": 5
}
