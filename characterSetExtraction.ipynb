{
 "cells": [
  {
   "cell_type": "code",
   "execution_count": 5,
   "id": "23441f87-1fd9-4239-b371-d2a18cdd98ae",
   "metadata": {
    "tags": []
   },
   "outputs": [
    {
     "data": {
      "text/plain": [
       "'4.47.2'"
      ]
     },
     "execution_count": 5,
     "metadata": {},
     "output_type": "execute_result"
    }
   ],
   "source": [
    "import fontTools;fontTools.__version__"
   ]
  },
  {
   "cell_type": "code",
   "execution_count": 6,
   "id": "ca51c99b-d3cf-417a-828d-478c158c957f",
   "metadata": {
    "tags": []
   },
   "outputs": [],
   "source": [
    "import os\n",
    "import re\n",
    "\n",
    "# 字符集文件\n",
    "characterSet = './characterSet.txt'\n",
    "# 字体源文件拓展名\n",
    "extension = '.otf'\n",
    "# 输出文件拓展名\n",
    "out_extension = '.otf'\n",
    "# 输出目录路径\n",
    "out_path = './font-min'\n",
    "\n",
    "# 获取当前目录\n",
    "current_directory = os.getcwd()\n",
    "# 获取当前目录下所有文件\n",
    "all_files = os.listdir(current_directory)\n",
    "# 按文件拓展名筛选出字体源文件\n",
    "input_files = [file for file in all_files if file.endswith(extension)]\n",
    "\n",
    "# 读入目标文本内容\n",
    "with open(characterSet, encoding='utf-8') as t:\n",
    "    source_content = t.read()"
   ]
  },
  {
   "cell_type": "code",
   "execution_count": 7,
   "id": "f61cccf5",
   "metadata": {},
   "outputs": [],
   "source": [
    "def generate_subset(input_file, source_content):\n",
    "    # 创建输出目录\n",
    "    out_dir = os.path.abspath(out_path)\n",
    "    if not os.path.exists(out_dir):\n",
    "        os.makedirs(out_dir)\n",
    "\n",
    "    # 获取文件名（不带扩展名）\n",
    "    file_name_without_extension = os.path.splitext(os.path.basename(input_file))[0]\n",
    "\n",
    "    # 构建字体子集输出路径\n",
    "    output_file = f'{out_path}/{file_name_without_extension}-min{out_extension}'\n",
    "\n",
    "    # print(input_file, output_file, os.path.join(out_dir, f'{file_name_without_extension}-min{out_extension}'))\n",
    "\n",
    "    # 模拟执行 pyftsubset 命令生成字体子集\n",
    "    os.system(\n",
    "        'pyftsubset {} --text={} --output-file={}'.format(\n",
    "            input_file,\n",
    "            # 去除空白字符后去重\n",
    "            ''.join(set(re.sub('\\\\s', '', source_content))),\n",
    "            output_file # 相对路径\n",
    "            # os.path.join(out_dir, f'{file_name_without_extension}-min{out_extension}') # 绝对路径\n",
    "        )\n",
    "    )\n",
    "\n",
    "# 遍历数组执行命令\n",
    "for input_file in input_files:\n",
    "    generate_subset(input_file, source_content)"
   ]
  },
  {
   "cell_type": "code",
   "execution_count": 8,
   "id": "137c04ac",
   "metadata": {},
   "outputs": [
    {
     "name": "stdout",
     "output_type": "stream",
     "text": [
      "文件改名和移动完成\n"
     ]
    }
   ],
   "source": [
    "# 获取当前目录下所有后缀为 .subset.xxx 的文件\n",
    "files_to_rename = [file for file in os.listdir(current_directory) if file.endswith(f'.subset{out_extension}')]\n",
    "\n",
    "# 遍历文件并进行改名和移动\n",
    "for file_name in files_to_rename:\n",
    "    # 构建原文件路径\n",
    "    source_path = os.path.join(current_directory, file_name)\n",
    "\n",
    "    # 构建目标文件路径\n",
    "    target_name = file_name.replace(f'.subset{out_extension}', f'-min{out_extension}')\n",
    "    target_path = os.path.join(out_path, target_name)\n",
    "\n",
    "    # 改名和移动文件\n",
    "    os.rename(source_path, target_path)\n",
    "\n",
    "print(\"文件改名和移动完成\")"
   ]
  }
 ],
 "metadata": {
  "kernelspec": {
   "display_name": "Python 3 (ipykernel)",
   "language": "python",
   "name": "python3"
  },
  "language_info": {
   "codemirror_mode": {
    "name": "ipython",
    "version": 3
   },
   "file_extension": ".py",
   "mimetype": "text/x-python",
   "name": "python",
   "nbconvert_exporter": "python",
   "pygments_lexer": "ipython3",
   "version": "3.8.6"
  }
 },
 "nbformat": 4,
 "nbformat_minor": 5
}
